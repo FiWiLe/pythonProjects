{
  "nbformat": 4,
  "nbformat_minor": 0,
  "metadata": {
    "colab": {
      "provenance": [],
      "authorship_tag": "ABX9TyONqlQmbtZb9EiVQsZkBYiQ"
    },
    "kernelspec": {
      "name": "python3",
      "display_name": "Python 3"
    },
    "language_info": {
      "name": "python"
    }
  },
  "cells": [
    {
      "cell_type": "code",
      "execution_count": 9,
      "metadata": {
        "id": "6EsERFlkn4SJ",
        "colab": {
          "base_uri": "https://localhost:8080/"
        },
        "outputId": "d2363c01-50c5-4d11-e698-5d9b04b603ca"
      },
      "outputs": [
        {
          "output_type": "stream",
          "name": "stdout",
          "text": [
            "[0, 0, 1, 2, 3, 0]\n",
            "Template found\n",
            "Template index in string: 9\n"
          ]
        }
      ],
      "source": [
        "a = input('Input string: ')\n",
        "t = input('Input template: ')\n",
        "\n",
        "p = [0]*len(t)\n",
        "j = 0\n",
        "i = 1\n",
        "\n",
        "# Заполняем массив p\n",
        "\n",
        "while i < len(t):\n",
        "    if t[j] == t[i]: # Если находим совпадение,\n",
        "        p[i] = j+1 # то добавляем в p длину суффикса и идем дальше\n",
        "        i += 1\n",
        "        j += 1\n",
        "    else:\n",
        "        if j == 0: # Если совпадения нет и префикс единичной длины,\n",
        "            p[i] = 0 # То добавляем в p нулевую длину и сдвигаем дальше\n",
        "            i += 1\n",
        "        else: \n",
        "            j = p[j-1] # Если j не нулевой, то сдвигаем его и проверяем дальше\n",
        "\n",
        "print(p)\n",
        "\n",
        "m = len(t)\n",
        "n = len(a)\n",
        "\n",
        "i = 0\n",
        "j = 0\n",
        "\n",
        "#Проводим поиск шаблона в строке\n",
        "\n",
        "while i < n: # Проходимся циклом по всей строке\n",
        "    if a[i] == t[j]: # Если находим одинаковые элементы,\n",
        "        i += 1 # То проходимся дальше\n",
        "        j += 1\n",
        "        if j == m: # Если дошли до конца шаблона, то заканчиваем\n",
        "            print('Template found')\n",
        "            print(f'Template index in string: {i-len(t)}')\n",
        "            break\n",
        "    else: # Если элементы не одинаковые, то\n",
        "        if j > 0: # Если j не нулевой, то сдвигаем его\n",
        "            j = p[j-1]\n",
        "        else: \n",
        "            i += 1\n",
        "if i == n and j != m: # Если дошли до конца строки и не нашли шаблона, то заканчиваем\n",
        "    print('Template not found')\n"
      ]
    }
  ]
}